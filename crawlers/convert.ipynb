{
 "metadata": {
  "language_info": {
   "codemirror_mode": {
    "name": "ipython",
    "version": 3
   },
   "file_extension": ".py",
   "mimetype": "text/x-python",
   "name": "python",
   "nbconvert_exporter": "python",
   "pygments_lexer": "ipython3",
   "version": "3.9.0"
  },
  "orig_nbformat": 2,
  "kernelspec": {
   "name": "python390jvsc74a57bd0aee8b7b246df8f9039afb4144a1f6fd8d2ca17a180786b69acc140d282b71a49",
   "display_name": "Python 3.9.0 64-bit"
  },
  "metadata": {
   "interpreter": {
    "hash": "aee8b7b246df8f9039afb4144a1f6fd8d2ca17a180786b69acc140d282b71a49"
   }
  }
 },
 "nbformat": 4,
 "nbformat_minor": 2,
 "cells": [
  {
   "cell_type": "code",
   "execution_count": 13,
   "metadata": {
    "tags": []
   },
   "outputs": [
    {
     "output_type": "stream",
     "name": "stdout",
     "text": [
      "{'ORGS': {'the-coca-cola-company': {'slug': 'the-coca-cola-company', 'name': 'The Coca-Cola Company', 'about': \"The Coca-Cola Company is the world's largest beverage company, refreshing consumers with more than 500 sparkling and still brands. \", 'image': 'https://cdn.theorg.com/f2511223-0496-4af2-aca3-f5eadb3fa98d_thumb.png', 'ocRootsRoleSlugs': ['james-quincey'], 'roleSlugs': []}, 'general-electric': {'slug': 'general-electric', 'name': 'General Electric', 'about': 'GE is a multi-industry company involved the energy, health and transportation. Combining engineering with software and analytics, GE helps the world work more efficiently, reliably, and safely. For more than 125 years, GE has invented the future of industry, and today it leads new paradigms in additive manufacturing, materials science, and data analytics.', 'image': 'https://cdn.theorg.com/af6e37ae-27f8-4ff8-9878-30a0104cd2b0_thumb.jpg', 'ocRootsRoleSlugs': ['h-lawrence-culp-jr'], 'roleSlugs': []}, 'paypal': {'slug': 'paypal', 'name': 'PayPal', 'about': 'PayPal Holdings, Inc. is an American company operating a worldwide online payments system that supports online money transfers and serves as an electronic alternative to traditional paper methods like checks and money orders. The company operates as a payment processor for online vendors, auction sites, and other commercial users, for which it charges a small fee in exchange for benefits such as one-click transact...', 'image': 'https://cdn.theorg.com/d352f617-e3b8-47e9-85f8-379c3c508cf0_thumb.jpg', 'ocRootsRoleSlugs': ['dan-schulman'], 'roleSlugs': []}, 'google': {'slug': 'google', 'name': 'Google', 'about': 'Our mission is to organize the world’s information and make it universally accessible and useful.', 'image': 'https://cdn.theorg.com/504ced3c-c45e-49af-bc9a-800348044039_thumb.png', 'ocRootsRoleSlugs': ['sundar-pichai'], 'roleSlugs': []}, 'lyft': {'slug': 'lyft', 'name': 'Lyft', 'about': 'Lyft was founded in 2012 by Logan Green and John Zimmer to improve people’s lives with the world’s best transportation, and is available to approximately 95 percent of the United States population as well as select cities in Canada. Lyft is committed to effecting positive change for our cities by offsetting carbon emissions from all rides, and by promoting transportation equity through shared rides, bikeshare syst...', 'image': 'https://cdn.theorg.com/a801fb8e-a455-4073-ade8-644aac67fa14_thumb.png', 'ocRootsRoleSlugs': ['logan-green'], 'roleSlugs': []}, 'cisco': {'slug': 'cisco', 'name': 'Cisco', 'about': 'Cisco Systems, Inc. is an American multinational technology conglomerate headquartered in San Jose, California, in the center of Silicon Valley, that develops, manufactures and sells networking hardware, telecommunications equipment and other high-technology services and products.', 'image': 'https://cdn.theorg.com/2c935cfd-9ee3-42a1-9c7a-4961eba8a815_thumb.jpg', 'ocRootsRoleSlugs': ['chuck-robbins'], 'roleSlugs': []}, 'intel': {'slug': 'intel', 'name': 'Intel', 'about': \"Intel Corporation is an American multinational corporation and technology company headquartered in Santa Clara, California, in the Silicon Valley. It is the world's second largest and second highest valued semiconductor chip makers based on revenue after being overtaken by Samsung, and is the inventor of the x86 series of microprocessors, the processors found in most personal computers (PCs). Intel supplies proces...\", 'image': 'https://cdn.theorg.com/cad06c48-10ab-4316-8760-e323fa5ce8b6_thumb.png', 'ocRootsRoleSlugs': ['patrick-p-gelsinger'], 'roleSlugs': []}, 'oracle': {'slug': 'oracle', 'name': 'Oracle', 'about': 'Oracle Corporation is an American multinational computer technology corporation specialized primarily in developing and marketing database software and technology, cloud engineered systems and enterprise software products — particularly its own brands of database management systems. ', 'image': 'https://cdn.theorg.com/980d09d5-fbc1-48a8-a8a3-6a98afcf6ede_thumb.jpg', 'ocRootsRoleSlugs': ['lawrence-j-ellison'], 'roleSlugs': []}, 'starbucks': {'slug': 'starbucks', 'name': 'Starbucks', 'about': 'Since 1971, Starbucks Coffee Company has been committed to ethically sourcing and roasting high-quality arabica coffee. Today, with more than 32,000 stores around the globe, the company is the premier roaster and retailer of specialty coffee in the world. ', 'image': 'https://cdn.theorg.com/959c3ba2-c36e-4199-8a09-ab5cbd5e9648_thumb.jpg', 'ocRootsRoleSlugs': ['kevin-johnson'], 'roleSlugs': []}, 'twitter': {'slug': 'twitter', 'name': 'Twitter', 'about': 'Twitter is a social networking platform that allows its users to send and read micro-blogs of up to 280-characters known as tweets.', 'image': 'https://cdn.theorg.com/43bb58d7-78cc-407d-bec3-f92388e89a8c_thumb.png', 'ocRootsRoleSlugs': ['jack-dorsey'], 'roleSlugs': []}, 'stripe': {'slug': 'stripe', 'name': 'Stripe', 'about': 'Stripe is the best software platform for running an internet business. We handle billions of dollars every year for forward-thinking businesses around the world.', 'image': 'https://cdn.theorg.com/5aeb268f-9cc6-43ff-a17a-fa857f388c86_thumb.png', 'ocRootsRoleSlugs': ['patrick-collison'], 'roleSlugs': []}, 'nasa': {'slug': 'nasa', 'name': 'NASA', 'about': 'For more than 60 years, NASA has been breaking barriers to achieve the seemingly impossible—from walking on the Moon to pushing the boundaries of human spaceflight farther than ever before. We work in space and around the world in laboratories and wind tunnels, on airfields and in control rooms to explore some of life’s fundamental mysteries: What’s out there in space? How do we get there? And what can we learn th...', 'image': 'https://cdn.theorg.com/01eafb39-e626-4bab-92e1-6e472fb2bc74_thumb.png', 'ocRootsRoleSlugs': ['bill-nelson'], 'roleSlugs': []}, 'jpmorgan-chase': {'slug': 'jpmorgan-chase', 'name': 'JPMorgan Chase', 'about': 'JP Morgan Chase & Co. is a global financial services provider that offers investment banking, asset management, treasury and other services.', 'image': 'https://cdn.theorg.com/e41fc444-e82f-4f78-b4ba-37cf9d656baf_thumb.png', 'ocRootsRoleSlugs': ['jamie-dimon'], 'roleSlugs': []}, 'spotify': {'slug': 'spotify', 'name': 'Spotify', 'about': \"On Spotify's apps, music can be browsed or searched for via various parameters, such as artist, album, genre, playlist, or record label. Users can create, edit and share playlists, share tracks on social media, and make playlists with other users. Spotify provides access to over 35 million songs.\", 'image': 'https://cdn.theorg.com/56a77d7b-9e9e-4902-b73f-1e0536122409_thumb.jpg', 'ocRootsRoleSlugs': ['daniel-ek'], 'roleSlugs': []}, 'nike': {'slug': 'nike', 'name': 'Nike', 'about': 'Nike, Inc. is an American multinational corporation that is engaged in the design, development, manufacturing, and worldwide marketing and sales of footwear, apparel, equipment, accessories, and services. ', 'image': 'https://cdn.theorg.com/4d64c9d1-1271-45ce-b042-57e6686bb956_thumb.png', 'ocRootsRoleSlugs': ['john-j-donahoe-ii'], 'roleSlugs': []}, 'walmart': {'slug': 'walmart', 'name': 'Walmart', 'about': 'Walmart is an American multinational retail corporation that operates a chain of hypermarkets, discount department stores, and grocery stores.', 'image': 'https://cdn.theorg.com/7fe3177e-34fb-4f3d-b092-13b312cc8b36_thumb.png', 'ocRootsRoleSlugs': ['doug-mcmillon'], 'roleSlugs': []}, 'att': {'slug': 'att', 'name': 'AT&T', 'about': 'AT&T Inc. is an American multinational telecommunications conglomerate, headquartered at Whitacre Tower in downtown Dallas, Texas. ', 'image': 'https://cdn.theorg.com/604761c3-0373-4553-afad-e0831ed8a68d_thumb.png', 'ocRootsRoleSlugs': ['john-stankey'], 'roleSlugs': []}, 'ibm': {'slug': 'ibm', 'name': 'IBM', 'about': 'IBM is a leading cloud platform and cognitive solutions company. Founded in 1911, it is the largest technology and consulting employer in the world.', 'image': 'https://cdn.theorg.com/14402fd7-3e12-461c-977a-2f4c93dca812_thumb.jpg', 'ocRootsRoleSlugs': ['arvind-krishna'], 'roleSlugs': []}, 'slack': {'slug': 'slack', 'name': 'Slack', 'about': 'Slack is a cloud-based set of proprietary team collaboration tools and services, founded by Stewart Butterfield. Slack began as an internal tool used by their company, Tiny Speck, in the development of Glitch, a now defunct online game. The name is an acronym for \"Searchable Log of All Conversation and Knowledge\".', 'image': 'https://cdn.theorg.com/8b9380dc-aa85-455f-9866-1c12f48e913a_thumb.png', 'ocRootsRoleSlugs': ['stewart-butterfield'], 'roleSlugs': []}, 'tesla': {'slug': 'tesla', 'name': 'Tesla', 'about': 'Tesla’s mission is to accelerate the world’s transition to sustainable energy through increasingly affordable electric vehicles in addition to renewable energy generation and storage.', 'image': 'https://cdn.theorg.com/9377ea45-c020-48c5-a739-35adce4aa0c3_thumb.png', 'ocRootsRoleSlugs': ['elon-musk'], 'roleSlugs': []}, 'salesforce': {'slug': 'salesforce', 'name': 'Salesforce', 'about': 'Salesforce is the Customer Success Platform. Its social and mobile cloud technologies—including its flagship sales and CRM applications—help companies connect with customers, partners, and employees in entirely new ways.', 'image': 'https://cdn.theorg.com/292c2a27-3e3e-4888-b4d9-85a32135c3a3_thumb.png', 'ocRootsRoleSlugs': ['marc-benioff'], 'roleSlugs': []}, 'uber': {'slug': 'uber', 'name': 'Uber', 'about': 'Uber is working to make transportation safer and more accessible, helping people order food quickly and affordably, reducing congestion in cities by getting more people into fewer cars, and creating opportunities for people to work on their own terms.', 'image': 'https://cdn.theorg.com/3a449ae5-1b59-4785-b448-cabd7cd1d1b3_thumb.png', 'ocRootsRoleSlugs': ['dara-khosrowshahi'], 'roleSlugs': []}, 'netflix': {'slug': 'netflix', 'name': 'Netflix', 'about': \"Netflix is the world's leading internet entertainment service with 125 million members in over 190 countries enjoying more than 140 million hours of TV shows and movies per day, including original series, documentaries and feature films. Members can watch as much as they want, anytime, anywhere, on nearly any internet-connected screen. \", 'image': 'https://cdn.theorg.com/2223546f-2004-4500-96d8-b0b7f4db05a9_thumb.png', 'ocRootsRoleSlugs': ['reed-hastings'], 'roleSlugs': []}, 'theorg': {'slug': 'theorg', 'name': 'The Org', 'about': 'We’re on a mission to make organizations more transparent. We believe that transparency will lead to a world that is more connected, egalitarian, and diverse. The public org chart is just the beginning!', 'image': 'https://cdn.theorg.com/a10743bc-520e-45c3-8d2a-05eee8f671b0_thumb.png', 'ocRootsRoleSlugs': ['christian'], 'roleSlugs': []}, 'airbnb': {'slug': 'airbnb', 'name': 'Airbnb', 'about': 'Founded in 2008, Airbnb is a global travel community that offers magical end-to-end trips, including where you stay, what you do and the people you meet. Airbnb uniquely leverages technology to economically empower millions of people around the world to unlock and monetize their spaces, passions and talents to become hospitality entrepreneurs. ', 'image': 'https://cdn.theorg.com/0fe5c692-5f40-44ad-b5b0-9e8a958604de_thumb.png', 'ocRootsRoleSlugs': ['brian-chesky'], 'roleSlugs': []}, 'facebook': {'slug': 'facebook', 'name': 'Facebook', 'about': 'Founded in 2004, Facebook’s mission is to give people the power to build community and bring the world closer together. Over 2 billion people use Facebook, Instagram, WhatsApp, or Messenger every month to stay connected with friends and family, to discover what’s going on in the world, and to share and express what matters to them. ', 'image': 'https://cdn.theorg.com/3197bd2c-8753-4c60-a07a-41e3af4e44a5_thumb.png', 'ocRootsRoleSlugs': ['mark-zuckerberg'], 'roleSlugs': []}, 'the-walt-disney-company': {'slug': 'the-walt-disney-company', 'name': 'Disney', 'about': \"The Walt Disney Company, commonly known as Disney is an American diversified multinational mass media and entertainment conglomerate, headquartered at the Walt Disney Studios in Burbank, California. It is the world's second-largest media conglomerate in terms of revenue, after Comcast. Disney was founded on October 16, 1923 – by brothers Walt Disney and Roy O. Disney – as the Disney Brothers Cartoon Studio, and es...\", 'image': 'https://cdn.theorg.com/0ddf60f5-8783-414d-bf77-5a2e4519b7c9_thumb.png', 'ocRootsRoleSlugs': ['bob-chapek'], 'roleSlugs': []}, 'apple': {'slug': 'apple', 'name': 'Apple', 'about': 'We’re a diverse collective of thinkers and doers, continually reimagining what’s possible to help us all do what we love in new ways. And the same innovation that goes into our products also applies to our practices — strengthening our commitment to leave the world better than we found it. This is where your work can make a difference in people’s lives. Including your own.', 'image': 'https://cdn.theorg.com/e1a6d68b-b4c8-4e4d-92d2-6d732078df77_thumb.png', 'ocRootsRoleSlugs': ['tim-cook'], 'roleSlugs': []}, 'amazon': {'slug': 'amazon', 'name': 'Amazon', 'about': \"Amazon's mission is to be Earth's most customer-centric company. Its actions, goals, projects, programs, and inventions begin and end with the customer top of mind.\\n\", 'image': 'https://cdn.theorg.com/332276f2-2670-4c1f-81b2-ea845f2bf279_thumb.jpg', 'ocRootsRoleSlugs': ['jeffrey-p-bezos'], 'roleSlugs': []}, 'microsoft': {'slug': 'microsoft', 'name': 'Microsoft', 'about': 'Our mission is to empower every person and every organization on the planet to achieve more.', 'image': 'https://cdn.theorg.com/3824fbec-0447-47e4-ab09-ed83a43d1ec4_thumb.png', 'ocRootsRoleSlugs': ['satya-nadella'], 'roleSlugs': []}}, 'PERSONS': {}, 'ROLES': {}}\n"
     ]
    }
   ],
   "source": [
    "import json\n",
    "roots = {}\n",
    "orgs = {}\n",
    "persons = {}\n",
    "with open('./data.jl', 'r') as f:\n",
    "    for l in f.readlines():\n",
    "        l = l.strip()\n",
    "        d = json.loads(l)\n",
    "        if 'roleSlug' in d:\n",
    "            roots[d['orgSlug']] = [d['roleSlug']]\n",
    "        elif 'about' in d:\n",
    "            orgs[d['slug']] = d\n",
    "        elif 'role' in d:\n",
    "            persons[d['slug']] = d\n",
    "\n",
    "# facebook: {\n",
    "#     slug: \"facebook\",\n",
    "#     name: \"Facebook, Inc.\",\n",
    "#     about:\n",
    "#       \"Founded in 2004, Facebook’s mission is to give people the power to build community and bring the world closer together. Over 2 billion people use Facebook, Instagram, WhatsApp, or Messenger every month to stay connected with friends and family, to discover what’s going on in the world, and to share and express what matters to them.\",\n",
    "#     roleSlugs: [\n",
    "#       \"facebook_mark-zuckerberg-S8r3\",\n",
    "#       \"facebook_sheryl-sandberg-da1f\",\n",
    "#       \"facebook_chris-cox-89as\",\n",
    "#       \"facebook_mike-schroepfer-1sa0\",\n",
    "#       \"facebook_andrew-bosworth-8923\",\n",
    "#     ],\n",
    "#     image:\n",
    "#       \"https://facebookbrand.com/wp-content/uploads/2019/04/f_logo_RGB-Hex-Blue_512.png?w=512&h=512\",\n",
    "#     ocRootsRoleSlugs: [\"facebook_mark-zuckerberg-S8r3\"],\n",
    "#   }\n",
    "\n",
    "res = {'ORGS':{},'PERSONS':{}, 'ROLES':{}}\n",
    "for k, o in orgs.items():\n",
    "    res['ORGS'][k] = {\n",
    "        'slug': o['slug'],\n",
    "        'name': o['name'],\n",
    "        'about': o['about'],\n",
    "        'image': o['image'],\n",
    "        'ocRootsRoleSlugs': roots.get(o['slug'], []),\n",
    "        'roleSlugs': []\n",
    "    }\n",
    "for k, p in persons.items():\n",
    "    \n",
    "print(res)"
   ]
  },
  {
   "cell_type": "code",
   "execution_count": null,
   "metadata": {},
   "outputs": [],
   "source": []
  }
 ]
}