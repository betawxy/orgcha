{
 "metadata": {
  "language_info": {
   "codemirror_mode": {
    "name": "ipython",
    "version": 3
   },
   "file_extension": ".py",
   "mimetype": "text/x-python",
   "name": "python",
   "nbconvert_exporter": "python",
   "pygments_lexer": "ipython3",
   "version": "3.9.0"
  },
  "orig_nbformat": 2,
  "kernelspec": {
   "name": "python390jvsc74a57bd0aee8b7b246df8f9039afb4144a1f6fd8d2ca17a180786b69acc140d282b71a49",
   "display_name": "Python 3.9.0 64-bit"
  },
  "metadata": {
   "interpreter": {
    "hash": "aee8b7b246df8f9039afb4144a1f6fd8d2ca17a180786b69acc140d282b71a49"
   }
  }
 },
 "nbformat": 4,
 "nbformat_minor": 2,
 "cells": [
  {
   "cell_type": "code",
   "execution_count": 1,
   "metadata": {
    "tags": []
   },
   "outputs": [],
   "source": [
    "import json\n",
    "\n",
    "def slugify(k):\n",
    "    return k + '-' + str(hash(k))[-4:]\n",
    "\n",
    "roots = {}\n",
    "orgs = {}\n",
    "persons = {}\n",
    "with open('./data.jl', 'r') as f:\n",
    "    for l in f.readlines():\n",
    "        l = l.strip()\n",
    "        d = json.loads(l)\n",
    "        if 'roleSlug' in d:\n",
    "            roots[d['orgSlug']] = [d['roleSlug']]\n",
    "        elif 'about' in d:\n",
    "            orgs[d['slug']] = d\n",
    "        elif 'role' in d:\n",
    "            persons[d['slug']] = d\n",
    "\n",
    "res = {'ORGS':{},'PERSONS':{}, 'ROLES':{}}\n",
    "for k, o in orgs.items():\n",
    "    res['ORGS'][k] = {\n",
    "        'slug': o['slug'],\n",
    "        'name': o['name'],\n",
    "        'about': o['about'],\n",
    "        # 'image': o['image'],\n",
    "        'image': '',\n",
    "        'ocRootsRoleSlugs': roots.get(o['slug'], []),\n",
    "        'roleSlugs': []\n",
    "    }\n",
    "for k, p in persons.items():\n",
    "    if p['name']:\n",
    "        slug = slugify(k)\n",
    "        orgSlug = p['orgSlug']\n",
    "        roleSlug = orgSlug + '_' + slug\n",
    "        res['PERSONS'][slug] = {\n",
    "            'slug': slug,\n",
    "            'name': p['name'],\n",
    "            'roleSlugs': [roleSlug],\n",
    "            # 'image': p['image'],\n",
    "            'image': '',\n",
    "            'social': {\n",
    "                'linkedin': \"\",\n",
    "            },\n",
    "        }\n",
    "        res['ORGS'][orgSlug]['roleSlugs'].append(roleSlug)\n",
    "        directReportsRoleSlugs = []\n",
    "        reportsToRoleSlugs = []\n",
    "        if len(p['managerSlug']) > 0:\n",
    "            reportsToRoleSlugs = [slugify(p['managerSlug'])]\n",
    "        for s in p['directReportsSlugs']:\n",
    "            directReportsRoleSlugs.append(slugify(s))\n",
    "        res['ROLES'][roleSlug] = {\n",
    "            'slug': roleSlug,\n",
    "            'orgSlug': orgSlug,\n",
    "            'personSlug': slug,\n",
    "            'name': p['role'],\n",
    "            'directReportsRoleSlugs': directReportsRoleSlugs,\n",
    "            'reportsToRoleSlugs': reportsToRoleSlugs,\n",
    "        }\n",
    "\n",
    "with open('../web/store/res.js', 'w') as js:\n",
    "    js.write('export const res = ' + str(res))"
   ]
  },
  {
   "cell_type": "code",
   "execution_count": null,
   "metadata": {},
   "outputs": [],
   "source": []
  }
 ]
}